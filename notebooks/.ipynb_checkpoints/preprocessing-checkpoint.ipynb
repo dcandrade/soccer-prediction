{
 "cells": [
  {
   "cell_type": "markdown",
   "metadata": {},
   "source": [
    "# Entries\n",
    "\n",
    "1. Historical statistics of direct confrontation (team 1 vs team 2)\n",
    "2. Statistics of *N* previous matches for each team\n",
    "3. Home player or away player\n",
    "4. Current points on championship\n",
    "5. Match day matters?"
   ]
  },
  {
   "cell_type": "code",
   "execution_count": 2,
   "metadata": {},
   "outputs": [],
   "source": [
    "from pprint import pprint\n",
    "from pymongo import MongoClient\n",
    "import numpy as np\n",
    "import matplotlib.pyplot as plt"
   ]
  },
  {
   "cell_type": "code",
   "execution_count": 3,
   "metadata": {},
   "outputs": [],
   "source": [
    "# Opening MongoDB\n",
    "MATCHES_COLLECTION_NAME = 'matches'\n",
    "CLASSIFICATION_HISTORY_COLLECTION_NAME = 'rankings'\n",
    "DB_NAME = 'soccer-prediction'\n",
    "\n",
    "client = MongoClient()\n",
    "db = client[DB_NAME]\n",
    "matches_collection = db[MATCHES_COLLECTION_NAME]\n",
    "classification_history = db[CLASSIFICATION_HISTORY_COLLECTION_NAME]"
   ]
  },
  {
   "cell_type": "code",
   "execution_count": 4,
   "metadata": {
    "scrolled": true
   },
   "outputs": [
    {
     "ename": "NameError",
     "evalue": "name 'years' is not defined",
     "output_type": "error",
     "traceback": [
      "\u001b[0;31m---------------------------------------------------------------------------\u001b[0m",
      "\u001b[0;31mNameError\u001b[0m                                 Traceback (most recent call last)",
      "\u001b[0;32m<ipython-input-4-d56208dd74b8>\u001b[0m in \u001b[0;36m<module>\u001b[0;34m()\u001b[0m\n\u001b[1;32m      1\u001b[0m \u001b[0;31m# Total number of matches per team\u001b[0m\u001b[0;34m\u001b[0m\u001b[0;34m\u001b[0m\u001b[0m\n\u001b[1;32m      2\u001b[0m \u001b[0mfreq\u001b[0m \u001b[0;34m=\u001b[0m \u001b[0;34m[\u001b[0m\u001b[0;34m]\u001b[0m\u001b[0;34m\u001b[0m\u001b[0m\n\u001b[0;32m----> 3\u001b[0;31m \u001b[0;32mfor\u001b[0m \u001b[0myear\u001b[0m \u001b[0;32min\u001b[0m \u001b[0myears\u001b[0m\u001b[0;34m:\u001b[0m\u001b[0;34m\u001b[0m\u001b[0m\n\u001b[0m\u001b[1;32m      4\u001b[0m     \u001b[0myear_teams\u001b[0m \u001b[0;34m=\u001b[0m \u001b[0mmatches_collection\u001b[0m\u001b[0;34m.\u001b[0m\u001b[0maggregate\u001b[0m\u001b[0;34m(\u001b[0m\u001b[0;34m[\u001b[0m\u001b[0;34m{\u001b[0m\u001b[0;34m'$project'\u001b[0m\u001b[0;34m:\u001b[0m\u001b[0;34m{\u001b[0m\u001b[0;34m'home_team'\u001b[0m\u001b[0;34m:\u001b[0m\u001b[0;36m1\u001b[0m\u001b[0;34m}\u001b[0m\u001b[0;34m}\u001b[0m\u001b[0;34m]\u001b[0m\u001b[0;34m)\u001b[0m\u001b[0;34m\u001b[0m\u001b[0m\n\u001b[1;32m      5\u001b[0m     \u001b[0mfreq\u001b[0m\u001b[0;34m.\u001b[0m\u001b[0mextend\u001b[0m\u001b[0;34m(\u001b[0m\u001b[0;34m[\u001b[0m\u001b[0mi\u001b[0m\u001b[0;34m[\u001b[0m\u001b[0;34m'home_team'\u001b[0m\u001b[0;34m]\u001b[0m \u001b[0;32mfor\u001b[0m \u001b[0mi\u001b[0m \u001b[0;32min\u001b[0m \u001b[0myear_teams\u001b[0m\u001b[0;34m]\u001b[0m\u001b[0;34m)\u001b[0m\u001b[0;34m\u001b[0m\u001b[0m\n",
      "\u001b[0;31mNameError\u001b[0m: name 'years' is not defined"
     ]
    }
   ],
   "source": [
    "# Total number of matches per team\n",
    "freq = []\n",
    "for year in years:\n",
    "    year_teams = matches_collection.aggregate([{'$project':{'home_team':1}}])\n",
    "    freq.extend([i['home_team'] for i in year_teams])\n",
    "\n",
    "plt.xticks(rotation=90)\n",
    "plt.hist(freq)"
   ]
  },
  {
   "cell_type": "code",
   "execution_count": 5,
   "metadata": {},
   "outputs": [
    {
     "name": "stdout",
     "output_type": "stream",
     "text": [
      "{'_id': ObjectId('5ac952926b5b9e2af46c59ef'),\n",
      " 'arbiter': 'Leonardo Gaciba da Silva',\n",
      " 'away_team': 'Santos',\n",
      " 'cards': [{'player': 'Alex Sandro', 'team': 'SAN', 'type': 'yellow'},\n",
      "           {'player': 'Zé Eduardo', 'team': 'SAN', 'type': 'yellow'},\n",
      "           {'player': 'Herrera', 'team': 'BOT', 'type': 'yellow'},\n",
      "           {'player': 'Wesley', 'team': 'SAN', 'type': 'yellow'},\n",
      "           {'player': 'Alex Sandro', 'team': 'SAN', 'type': 'red'}],\n",
      " 'coaches': {'away_team': 'Dorival Júnior', 'home_team': 'Joel Santana'},\n",
      " 'home_team': 'Botafogo',\n",
      " 'location': {'city': 'Brasil, Rio de Janeiro, RJ', 'stadium': 'Engenhão'},\n",
      " 'players': {'away_team': [{'name': 'Felipe Garcia', 'position': 'GOL'},\n",
      "                           {'name': 'Bruno Aguiar', 'position': 'ZAD'},\n",
      "                           {'name': 'Durval', 'position': 'ZAE'},\n",
      "                           {'name': 'Maranhão', 'position': 'LAD'},\n",
      "                           {'name': 'Alex Sandro', 'position': 'LAE'},\n",
      "                           {'name': 'Madson', 'position': 'MEC'},\n",
      "                           {'name': 'Breitner', 'position': 'MEC'},\n",
      "                           {'name': 'Wesley', 'position': 'VOL'},\n",
      "                           {'name': 'Marquinhos', 'position': 'MEC'},\n",
      "                           {'name': 'Roberto Brum', 'position': 'VOL'},\n",
      "                           {'name': 'Rodrigo Mancha', 'position': 'VOL'},\n",
      "                           {'name': 'Neymar', 'position': 'ATA'},\n",
      "                           {'name': 'Zé Eduardo', 'position': 'ATA'},\n",
      "                           {'name': 'André', 'position': 'ATA'}],\n",
      "             'home_team': [{'name': 'Jefferson', 'position': 'GOL'},\n",
      "                           {'name': 'Antônio Carlos', 'position': 'ZAD'},\n",
      "                           {'name': 'Fábio Ferreira', 'position': 'ZAE'},\n",
      "                           {'name': 'Alessandro', 'position': 'LAD'},\n",
      "                           {'name': 'Marcelo Cordeiro', 'position': 'LAE'},\n",
      "                           {'name': 'Somália', 'position': 'VOL'},\n",
      "                           {'name': 'Fahel', 'position': 'VOL'},\n",
      "                           {'name': 'Túlio Souza', 'position': 'VOL'},\n",
      "                           {'name': 'Edno', 'position': 'ATA'},\n",
      "                           {'name': 'Renato Cajá', 'position': 'MEC'},\n",
      "                           {'name': 'Caio', 'position': 'ATA'},\n",
      "                           {'name': 'Leandro Guerreiro', 'position': 'VOL'},\n",
      "                           {'name': 'Herrera', 'position': 'ATA'},\n",
      "                           {'name': 'Loco Abreu', 'position': 'ATA'}]},\n",
      " 'round': 1,\n",
      " 'schedule': {'date': '08/05/2010', 'day': 'Sábado', 'time': '18h30'},\n",
      " 'score': {'away_team': 3, 'home_team': 3},\n",
      " 'statistics': {'goals_away_team': 68,\n",
      "                'goals_home_team': 54,\n",
      "                'matches_same_score': 0,\n",
      "                'previous_draws': 17,\n",
      "                'previous_matches': 47,\n",
      "                'wins_away_team': 16,\n",
      "                'wins_home_team': 14},\n",
      " 'url': 'http://futpedia.globo.com/campeonato/campeonato-brasileiro/2010/05/08/botafogo-3-x-3-santos',\n",
      " 'year': 2010}\n"
     ]
    }
   ],
   "source": [
    "sample = matches_collection.find_one()\n",
    "pprint(sample)"
   ]
  },
  {
   "cell_type": "code",
   "execution_count": 6,
   "metadata": {},
   "outputs": [],
   "source": [
    "def extract_features(match):\n",
    "#### Format [home_score, away_score, stats_goals_home_team, stats_goals_away_team, \n",
    "### stats_wins_home_team, stats_wins_away_team, stats_previous_draws, \n",
    "### *previous N matches home team (sg), *previous N matches away team (sg)]\n",
    "    ##          ]\n",
    "    N = 4\n",
    "    stats = match['statistics']\n",
    "    score = match['score']\n",
    "    home_team_last_sg = get_last_N_sg(match['home_team'], N)\n",
    "    away_team_last_sg = get_last_N_sg(match['away_team'], N)\n",
    "    return [\n",
    "            score['home_team'],\n",
    "            score['away_team'], \n",
    "            stats['goals_home_team'], \n",
    "            stats['goals_away_team'],\n",
    "            score['wins_home_team'], \n",
    "            stats['wins_away_team'], \n",
    "            stats['previous_draws'], \n",
    "            *home_team_last_sg, \n",
    "            *away_team_last_sg\n",
    "           ]\n",
    "    pass"
   ]
  },
  {
   "cell_type": "code",
   "execution_count": 8,
   "metadata": {},
   "outputs": [
    {
     "ename": "SyntaxError",
     "evalue": "invalid syntax (<ipython-input-8-e43474a83e48>, line 6)",
     "output_type": "error",
     "traceback": [
      "\u001b[0;36m  File \u001b[0;32m\"<ipython-input-8-e43474a83e48>\"\u001b[0;36m, line \u001b[0;32m6\u001b[0m\n\u001b[0;31m    .sort([('year',-1), ('round',-1)]\u001b[0m\n\u001b[0m    ^\u001b[0m\n\u001b[0;31mSyntaxError\u001b[0m\u001b[0;31m:\u001b[0m invalid syntax\n"
     ]
    }
   ],
   "source": [
    "def get_last_results(team, limit):\n",
    "    query_constraints = {'$or':[ {'away_team':team}, {'home_team':team}]}\n",
    "    query_projections = \n",
    "    matches = matches_collection.find(, \n",
    "        {'home_team':1, 'away_team':1, 'year':1, 'round':1, 'score':1, 'teams': 1}\n",
    "    ).sort(\n",
    "        [('year',-1), ('round',-1)]\n",
    "          ).limit(limit)\n",
    "    sgs =[]\n",
    "    for match in matches:\n",
    "        score = match['score']\n",
    "        is_home = team == match['home_team']\n",
    "        \n",
    "        if is_home:\n",
    "            sg = score['home_team'] - score['away_team']\n",
    "        else:\n",
    "            sg = score['away_team'] - score['home_team']\n",
    "        sgs.append(sg)\n",
    "    \n",
    "    return sgs"
   ]
  },
  {
   "cell_type": "code",
   "execution_count": 92,
   "metadata": {},
   "outputs": [
    {
     "name": "stdout",
     "output_type": "stream",
     "text": [
      "0\n",
      "0\n",
      "1\n",
      "-2\n",
      "-1\n"
     ]
    }
   ],
   "source": [
    "for i in get_last_results('Corinthians', 5):\n",
    "    pprint(i)"
   ]
  },
  {
   "cell_type": "code",
   "execution_count": null,
   "metadata": {},
   "outputs": [],
   "source": []
  }
 ],
 "metadata": {
  "kernelspec": {
   "display_name": "Python 3",
   "language": "python",
   "name": "python3"
  },
  "language_info": {
   "codemirror_mode": {
    "name": "ipython",
    "version": 3
   },
   "file_extension": ".py",
   "mimetype": "text/x-python",
   "name": "python",
   "nbconvert_exporter": "python",
   "pygments_lexer": "ipython3",
   "version": "3.6.5"
  }
 },
 "nbformat": 4,
 "nbformat_minor": 2
}
