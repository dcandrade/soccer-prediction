{
 "cells": [
  {
   "cell_type": "markdown",
   "metadata": {},
   "source": [
    "# Entries\n",
    "\n",
    "1. Historical statistics of direct confrontation (team 1 vs team 2)\n",
    "2. Statistics of *N* previous matches for each team\n",
    "3. Home player or away player\n",
    "4. Current points on championship\n",
    "5. Match day matters?"
   ]
  },
  {
   "cell_type": "code",
   "execution_count": 1,
   "metadata": {},
   "outputs": [],
   "source": [
    "import sys\n",
    "sys.path.append(\"..\")"
   ]
  },
  {
   "cell_type": "code",
   "execution_count": 2,
   "metadata": {},
   "outputs": [],
   "source": [
    "from pprint import pprint\n",
    "from pymongo import MongoClient\n",
    "import numpy as np\n",
    "import pandas as pd\n",
    "import matplotlib.pyplot as plt\n",
    "from db.database import DAO"
   ]
  },
  {
   "cell_type": "code",
   "execution_count": 3,
   "metadata": {},
   "outputs": [],
   "source": [
    "dao = DAO()\n",
    "matches_collection = dao.matches()"
   ]
  },
  {
   "cell_type": "code",
   "execution_count": 4,
   "metadata": {},
   "outputs": [
    {
     "name": "stdout",
     "output_type": "stream",
     "text": [
      "{'_id': ObjectId('5ac952926b5b9e2af46c59ef'),\n",
      " 'arbiter': 'Leonardo Gaciba da Silva',\n",
      " 'away_team': 'Santos',\n",
      " 'cards': [{'player': 'Alex Sandro', 'team': 'SAN', 'type': 'yellow'},\n",
      "           {'player': 'Zé Eduardo', 'team': 'SAN', 'type': 'yellow'},\n",
      "           {'player': 'Herrera', 'team': 'BOT', 'type': 'yellow'},\n",
      "           {'player': 'Wesley', 'team': 'SAN', 'type': 'yellow'},\n",
      "           {'player': 'Alex Sandro', 'team': 'SAN', 'type': 'red'}],\n",
      " 'coaches': {'away_team': 'Dorival Júnior', 'home_team': 'Joel Santana'},\n",
      " 'home_team': 'Botafogo',\n",
      " 'location': {'city': 'Brasil, Rio de Janeiro, RJ', 'stadium': 'Engenhão'},\n",
      " 'players': {'away_team': [{'name': 'Felipe Garcia', 'position': 'GOL'},\n",
      "                           {'name': 'Bruno Aguiar', 'position': 'ZAD'},\n",
      "                           {'name': 'Durval', 'position': 'ZAE'},\n",
      "                           {'name': 'Maranhão', 'position': 'LAD'},\n",
      "                           {'name': 'Alex Sandro', 'position': 'LAE'},\n",
      "                           {'name': 'Madson', 'position': 'MEC'},\n",
      "                           {'name': 'Breitner', 'position': 'MEC'},\n",
      "                           {'name': 'Wesley', 'position': 'VOL'},\n",
      "                           {'name': 'Marquinhos', 'position': 'MEC'},\n",
      "                           {'name': 'Roberto Brum', 'position': 'VOL'},\n",
      "                           {'name': 'Rodrigo Mancha', 'position': 'VOL'},\n",
      "                           {'name': 'Neymar', 'position': 'ATA'},\n",
      "                           {'name': 'Zé Eduardo', 'position': 'ATA'},\n",
      "                           {'name': 'André', 'position': 'ATA'}],\n",
      "             'home_team': [{'name': 'Jefferson', 'position': 'GOL'},\n",
      "                           {'name': 'Antônio Carlos', 'position': 'ZAD'},\n",
      "                           {'name': 'Fábio Ferreira', 'position': 'ZAE'},\n",
      "                           {'name': 'Alessandro', 'position': 'LAD'},\n",
      "                           {'name': 'Marcelo Cordeiro', 'position': 'LAE'},\n",
      "                           {'name': 'Somália', 'position': 'VOL'},\n",
      "                           {'name': 'Fahel', 'position': 'VOL'},\n",
      "                           {'name': 'Túlio Souza', 'position': 'VOL'},\n",
      "                           {'name': 'Edno', 'position': 'ATA'},\n",
      "                           {'name': 'Renato Cajá', 'position': 'MEC'},\n",
      "                           {'name': 'Caio', 'position': 'ATA'},\n",
      "                           {'name': 'Leandro Guerreiro', 'position': 'VOL'},\n",
      "                           {'name': 'Herrera', 'position': 'ATA'},\n",
      "                           {'name': 'Loco Abreu', 'position': 'ATA'}]},\n",
      " 'round': 1,\n",
      " 'schedule': {'date': '08/05/2010', 'day': 'Sábado', 'time': '18h30'},\n",
      " 'score': {'away_team': 3, 'home_team': 3},\n",
      " 'statistics': {'goals_away_team': 68,\n",
      "                'goals_home_team': 54,\n",
      "                'matches_same_score': 0,\n",
      "                'previous_draws': 17,\n",
      "                'previous_matches': 47,\n",
      "                'wins_away_team': 16,\n",
      "                'wins_home_team': 14},\n",
      " 'url': 'http://futpedia.globo.com/campeonato/campeonato-brasileiro/2010/05/08/botafogo-3-x-3-santos',\n",
      " 'year': 2010}\n"
     ]
    }
   ],
   "source": [
    "# Sample match for testing\n",
    "sample = matches_collection.find_one()\n",
    "pprint(sample)"
   ]
  },
  {
   "cell_type": "markdown",
   "metadata": {},
   "source": [
    "## Match Vectorizer\n",
    "Takes a match in the above format and extracts the most important characteristics in the following order:\n",
    "\n",
    "<ol>\n",
    "- Current match statistics\n",
    "<li> Home team score </li>\n",
    "<li> Away team score </li>\n",
    "\n",
    "- Statistics of all confronts of the teams\n",
    "<li> Goals by home team </li>\n",
    "<li> Goals by away team </li>\n",
    "<li> Number of victories of home team </li>\n",
    "<li> Number o victories of away team </li>\n",
    "<li> Number of draws </li>\n",
    "\n",
    "- Statistics of N previous games of each team\n",
    "<li> Balance of N last games of home team </li>\n",
    "<li> Balance of N last games of away team </li>\n",
    "</ol>"
   ]
  },
  {
   "cell_type": "code",
   "execution_count": 5,
   "metadata": {},
   "outputs": [],
   "source": [
    "# Default match feature extractor. ht is home_team and at is away_team\n",
    "N = 4\n",
    "labels = ['ht_score', 'at_score', 'goals_ht', 'goals_at', 'wins_ht', 'wins_at', 'draws', \n",
    "          *(['sg_ht']*4), *(['sg_at']*4)]\n",
    "def vectorize_match(dao, match, N):\n",
    "    N = 4\n",
    "    stats = match['statistics']\n",
    "    score = match['score']\n",
    "    home_team_last_sg = dao.get_last_N_balances(match['home_team'], N)\n",
    "    away_team_last_sg = dao.get_last_N_balances(match['away_team'], N)\n",
    "    return [\n",
    "            score['home_team'],\n",
    "            score['away_team'], \n",
    "            stats['goals_home_team'], \n",
    "            stats['goals_away_team'],\n",
    "            stats['wins_home_team'], \n",
    "            stats['wins_away_team'], \n",
    "            stats['previous_draws'], \n",
    "            *home_team_last_sg, \n",
    "            *away_team_last_sg\n",
    "           ]"
   ]
  },
  {
   "cell_type": "code",
   "execution_count": 6,
   "metadata": {},
   "outputs": [
    {
     "data": {
      "text/html": [
       "<div>\n",
       "<style scoped>\n",
       "    .dataframe tbody tr th:only-of-type {\n",
       "        vertical-align: middle;\n",
       "    }\n",
       "\n",
       "    .dataframe tbody tr th {\n",
       "        vertical-align: top;\n",
       "    }\n",
       "\n",
       "    .dataframe thead th {\n",
       "        text-align: right;\n",
       "    }\n",
       "</style>\n",
       "<table border=\"1\" class=\"dataframe\">\n",
       "  <thead>\n",
       "    <tr style=\"text-align: right;\">\n",
       "      <th></th>\n",
       "      <th>ht_score</th>\n",
       "      <th>at_score</th>\n",
       "      <th>goals_ht</th>\n",
       "      <th>goals_at</th>\n",
       "      <th>wins_ht</th>\n",
       "      <th>wins_at</th>\n",
       "      <th>draws</th>\n",
       "      <th>sg_ht</th>\n",
       "      <th>sg_ht</th>\n",
       "      <th>sg_ht</th>\n",
       "      <th>sg_ht</th>\n",
       "      <th>sg_at</th>\n",
       "      <th>sg_at</th>\n",
       "      <th>sg_at</th>\n",
       "      <th>sg_at</th>\n",
       "    </tr>\n",
       "  </thead>\n",
       "  <tbody>\n",
       "    <tr>\n",
       "      <th>0</th>\n",
       "      <td>3</td>\n",
       "      <td>3</td>\n",
       "      <td>54</td>\n",
       "      <td>68</td>\n",
       "      <td>14</td>\n",
       "      <td>16</td>\n",
       "      <td>17</td>\n",
       "      <td>-1</td>\n",
       "      <td>1</td>\n",
       "      <td>2</td>\n",
       "      <td>2</td>\n",
       "      <td>1</td>\n",
       "      <td>1</td>\n",
       "      <td>-2</td>\n",
       "      <td>2</td>\n",
       "    </tr>\n",
       "  </tbody>\n",
       "</table>\n",
       "</div>"
      ],
      "text/plain": [
       "   ht_score  at_score  goals_ht  goals_at  wins_ht  wins_at  draws  sg_ht  \\\n",
       "0         3         3        54        68       14       16     17     -1   \n",
       "\n",
       "   sg_ht  sg_ht  sg_ht  sg_at  sg_at  sg_at  sg_at  \n",
       "0      1      2      2      1      1     -2      2  "
      ]
     },
     "execution_count": 6,
     "metadata": {},
     "output_type": "execute_result"
    }
   ],
   "source": [
    "# Match vectorizing example\n",
    "match_vector = vectorize_match(dao, sample, N)\n",
    "pd.DataFrame(data=[match_vector], columns=labels)"
   ]
  },
  {
   "cell_type": "code",
   "execution_count": 7,
   "metadata": {},
   "outputs": [],
   "source": [
    "# TODO: Vectorize matches from 2016\n"
   ]
  },
  {
   "cell_type": "code",
   "execution_count": 8,
   "metadata": {},
   "outputs": [],
   "source": [
    "# TODO: Feature Scaling\n"
   ]
  },
  {
   "cell_type": "code",
   "execution_count": 10,
   "metadata": {},
   "outputs": [],
   "source": [
    "# TODO: Train test split\n"
   ]
  },
  {
   "cell_type": "markdown",
   "metadata": {},
   "source": [
    "## Building the Perceptron ANN\n",
    "\n",
    "#TODO: Describe inputs and outputs"
   ]
  },
  {
   "cell_type": "code",
   "execution_count": 37,
   "metadata": {
    "scrolled": true
   },
   "outputs": [
    {
     "name": "stderr",
     "output_type": "stream",
     "text": [
      "/home/dcandrade/.anaconda3/lib/python3.6/site-packages/h5py/__init__.py:36: FutureWarning: Conversion of the second argument of issubdtype from `float` to `np.floating` is deprecated. In future, it will be treated as `np.float64 == np.dtype(float).type`.\n",
      "  from ._conv import register_converters as _register_converters\n",
      "Using TensorFlow backend.\n"
     ]
    },
    {
     "ename": "ValueError",
     "evalue": "Error when checking input: expected dense_1_input to have 2 dimensions, but got array with shape (0,)",
     "output_type": "error",
     "traceback": [
      "\u001b[0;31m---------------------------------------------------------------------------\u001b[0m",
      "\u001b[0;31mValueError\u001b[0m                                Traceback (most recent call last)",
      "\u001b[0;32m<ipython-input-37-4d532efbf772>\u001b[0m in \u001b[0;36m<module>\u001b[0;34m()\u001b[0m\n\u001b[1;32m     29\u001b[0m \u001b[0;34m\u001b[0m\u001b[0m\n\u001b[1;32m     30\u001b[0m \u001b[0;31m#training\u001b[0m\u001b[0;34m\u001b[0m\u001b[0;34m\u001b[0m\u001b[0m\n\u001b[0;32m---> 31\u001b[0;31m \u001b[0mmodel\u001b[0m\u001b[0;34m.\u001b[0m\u001b[0mfit\u001b[0m\u001b[0;34m(\u001b[0m\u001b[0mx\u001b[0m\u001b[0;34m,\u001b[0m \u001b[0my\u001b[0m\u001b[0;34m,\u001b[0m \u001b[0mepochs\u001b[0m\u001b[0;34m=\u001b[0m\u001b[0;36m150\u001b[0m\u001b[0;34m,\u001b[0m \u001b[0mbatch_size\u001b[0m\u001b[0;34m=\u001b[0m\u001b[0;36m10\u001b[0m\u001b[0;34m)\u001b[0m\u001b[0;34m\u001b[0m\u001b[0m\n\u001b[0m\u001b[1;32m     32\u001b[0m \u001b[0mscores\u001b[0m \u001b[0;34m=\u001b[0m \u001b[0mmodel\u001b[0m\u001b[0;34m.\u001b[0m\u001b[0mevaluate\u001b[0m\u001b[0;34m(\u001b[0m\u001b[0mx\u001b[0m\u001b[0;34m,\u001b[0m \u001b[0my\u001b[0m\u001b[0;34m)\u001b[0m\u001b[0;34m\u001b[0m\u001b[0m\n\u001b[1;32m     33\u001b[0m \u001b[0;34m\u001b[0m\u001b[0m\n",
      "\u001b[0;32m~/.anaconda3/lib/python3.6/site-packages/keras/models.py\u001b[0m in \u001b[0;36mfit\u001b[0;34m(self, x, y, batch_size, epochs, verbose, callbacks, validation_split, validation_data, shuffle, class_weight, sample_weight, initial_epoch, steps_per_epoch, validation_steps, **kwargs)\u001b[0m\n\u001b[1;32m    961\u001b[0m                               \u001b[0minitial_epoch\u001b[0m\u001b[0;34m=\u001b[0m\u001b[0minitial_epoch\u001b[0m\u001b[0;34m,\u001b[0m\u001b[0;34m\u001b[0m\u001b[0m\n\u001b[1;32m    962\u001b[0m                               \u001b[0msteps_per_epoch\u001b[0m\u001b[0;34m=\u001b[0m\u001b[0msteps_per_epoch\u001b[0m\u001b[0;34m,\u001b[0m\u001b[0;34m\u001b[0m\u001b[0m\n\u001b[0;32m--> 963\u001b[0;31m                               validation_steps=validation_steps)\n\u001b[0m\u001b[1;32m    964\u001b[0m \u001b[0;34m\u001b[0m\u001b[0m\n\u001b[1;32m    965\u001b[0m     def evaluate(self, x=None, y=None,\n",
      "\u001b[0;32m~/.anaconda3/lib/python3.6/site-packages/keras/engine/training.py\u001b[0m in \u001b[0;36mfit\u001b[0;34m(self, x, y, batch_size, epochs, verbose, callbacks, validation_split, validation_data, shuffle, class_weight, sample_weight, initial_epoch, steps_per_epoch, validation_steps, **kwargs)\u001b[0m\n\u001b[1;32m   1628\u001b[0m             \u001b[0msample_weight\u001b[0m\u001b[0;34m=\u001b[0m\u001b[0msample_weight\u001b[0m\u001b[0;34m,\u001b[0m\u001b[0;34m\u001b[0m\u001b[0m\n\u001b[1;32m   1629\u001b[0m             \u001b[0mclass_weight\u001b[0m\u001b[0;34m=\u001b[0m\u001b[0mclass_weight\u001b[0m\u001b[0;34m,\u001b[0m\u001b[0;34m\u001b[0m\u001b[0m\n\u001b[0;32m-> 1630\u001b[0;31m             batch_size=batch_size)\n\u001b[0m\u001b[1;32m   1631\u001b[0m         \u001b[0;31m# Prepare validation data.\u001b[0m\u001b[0;34m\u001b[0m\u001b[0;34m\u001b[0m\u001b[0m\n\u001b[1;32m   1632\u001b[0m         \u001b[0mdo_validation\u001b[0m \u001b[0;34m=\u001b[0m \u001b[0;32mFalse\u001b[0m\u001b[0;34m\u001b[0m\u001b[0m\n",
      "\u001b[0;32m~/.anaconda3/lib/python3.6/site-packages/keras/engine/training.py\u001b[0m in \u001b[0;36m_standardize_user_data\u001b[0;34m(self, x, y, sample_weight, class_weight, check_array_lengths, batch_size)\u001b[0m\n\u001b[1;32m   1474\u001b[0m                                     \u001b[0mself\u001b[0m\u001b[0;34m.\u001b[0m\u001b[0m_feed_input_shapes\u001b[0m\u001b[0;34m,\u001b[0m\u001b[0;34m\u001b[0m\u001b[0m\n\u001b[1;32m   1475\u001b[0m                                     \u001b[0mcheck_batch_axis\u001b[0m\u001b[0;34m=\u001b[0m\u001b[0;32mFalse\u001b[0m\u001b[0;34m,\u001b[0m\u001b[0;34m\u001b[0m\u001b[0m\n\u001b[0;32m-> 1476\u001b[0;31m                                     exception_prefix='input')\n\u001b[0m\u001b[1;32m   1477\u001b[0m         y = _standardize_input_data(y, self._feed_output_names,\n\u001b[1;32m   1478\u001b[0m                                     \u001b[0moutput_shapes\u001b[0m\u001b[0;34m,\u001b[0m\u001b[0;34m\u001b[0m\u001b[0m\n",
      "\u001b[0;32m~/.anaconda3/lib/python3.6/site-packages/keras/engine/training.py\u001b[0m in \u001b[0;36m_standardize_input_data\u001b[0;34m(data, names, shapes, check_batch_axis, exception_prefix)\u001b[0m\n\u001b[1;32m    111\u001b[0m                         \u001b[0;34m': expected '\u001b[0m \u001b[0;34m+\u001b[0m \u001b[0mnames\u001b[0m\u001b[0;34m[\u001b[0m\u001b[0mi\u001b[0m\u001b[0;34m]\u001b[0m \u001b[0;34m+\u001b[0m \u001b[0;34m' to have '\u001b[0m \u001b[0;34m+\u001b[0m\u001b[0;34m\u001b[0m\u001b[0m\n\u001b[1;32m    112\u001b[0m                         \u001b[0mstr\u001b[0m\u001b[0;34m(\u001b[0m\u001b[0mlen\u001b[0m\u001b[0;34m(\u001b[0m\u001b[0mshape\u001b[0m\u001b[0;34m)\u001b[0m\u001b[0;34m)\u001b[0m \u001b[0;34m+\u001b[0m \u001b[0;34m' dimensions, but got array '\u001b[0m\u001b[0;34m\u001b[0m\u001b[0m\n\u001b[0;32m--> 113\u001b[0;31m                         'with shape ' + str(data_shape))\n\u001b[0m\u001b[1;32m    114\u001b[0m                 \u001b[0;32mif\u001b[0m \u001b[0;32mnot\u001b[0m \u001b[0mcheck_batch_axis\u001b[0m\u001b[0;34m:\u001b[0m\u001b[0;34m\u001b[0m\u001b[0m\n\u001b[1;32m    115\u001b[0m                     \u001b[0mdata_shape\u001b[0m \u001b[0;34m=\u001b[0m \u001b[0mdata_shape\u001b[0m\u001b[0;34m[\u001b[0m\u001b[0;36m1\u001b[0m\u001b[0;34m:\u001b[0m\u001b[0;34m]\u001b[0m\u001b[0;34m\u001b[0m\u001b[0m\n",
      "\u001b[0;31mValueError\u001b[0m: Error when checking input: expected dense_1_input to have 2 dimensions, but got array with shape (0,)"
     ]
    }
   ],
   "source": [
    "from keras.models import Sequential\n",
    "from keras.layers import Dense\n",
    "\n",
    "\n",
    "#input:\n",
    "# SG from last 4 matches from team A - Size: 4\n",
    "# \"Away or home\" from team A - Size:1\n",
    "# Wins, Defeats and Draws in direct confrontation(Team A) - Size 3\n",
    "\n",
    "# SG from last 4 matches from team B - Size: 4\n",
    "# \"Away or home\" from team B - Size:1\n",
    "# Wins, Defeats and Draws in direct confrontation(Team B) - Size 3\n",
    "#Total size: 16\n",
    "x = []\n",
    "\n",
    "#output:\n",
    "#goals from Team A - size: 1\n",
    "#goals from Team B - size: 1\n",
    "#Total size: 2\n",
    "y = []\n",
    "\n",
    "#creating the neural network\n",
    "model = Sequential()\n",
    "model.add(Dense(2, input_dim=16, activation='relu'))\n",
    "model.add(Dense(2, activation='relu'))\n",
    "model.add(Dense(1, activation='sigmoid'))\n",
    "\n",
    "model.compile(loss='binary_crossentropy', optimizer='adam', metrics=['accuracy'])\n",
    "\n",
    "#training\n",
    "model.fit(x, y, epochs=150, batch_size=10)\n",
    "scores = model.evaluate(x, y)\n",
    "\n",
    "print(\"\\n%s: %.2f%%\" % (model.metrics_names[1], scores[1]*100))\n",
    "\n",
    "plot_model(model, to_file='model_plot.png', show_shapes=True, show_layer_names=True)\n"
   ]
  },
  {
   "cell_type": "code",
   "execution_count": null,
   "metadata": {
    "collapsed": true
   },
   "outputs": [],
   "source": []
  }
 ],
 "metadata": {
  "kernelspec": {
   "display_name": "Python 3",
   "language": "python",
   "name": "python3"
  },
  "language_info": {
   "codemirror_mode": {
    "name": "ipython",
    "version": 3
   },
   "file_extension": ".py",
   "mimetype": "text/x-python",
   "name": "python",
   "nbconvert_exporter": "python",
   "pygments_lexer": "ipython3",
   "version": "3.6.5"
  }
 },
 "nbformat": 4,
 "nbformat_minor": 2
}
