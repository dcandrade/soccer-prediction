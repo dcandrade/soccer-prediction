{
 "cells": [
  {
   "cell_type": "markdown",
   "metadata": {},
   "source": [
    "# Entries\n",
    "\n",
    "1. Historical statistics of direct confrontation (team 1 vs team 2)\n",
    "2. Statistics of *N* previous matches for each team\n",
    "3. Home player or away player\n",
    "4. Current points on championship\n",
    "5. Match day matters?"
   ]
  },
  {
   "cell_type": "code",
   "execution_count": 1,
   "metadata": {},
   "outputs": [],
   "source": [
    "from pprint import pprint\n",
    "from pymongo import MongoClient\n",
    "import numpy as np\n",
    "import matplotlib.pyplot as plt"
   ]
  },
  {
   "cell_type": "code",
   "execution_count": 2,
   "metadata": {},
   "outputs": [],
   "source": [
    "# Opening MongoDB\n",
    "MATCHES_COLLECTION_NAME = 'matches'\n",
    "CLASSIFICATION_HISTORY_COLLECTION_NAME = 'rankings'\n",
    "DB_NAME = 'soccer-prediction'\n",
    "\n",
    "client = MongoClient()\n",
    "db = client[DB_NAME]\n",
    "matches_collection = db[MATCHES_COLLECTION_NAME]\n",
    "classification_history = db[CLASSIFICATION_HISTORY_COLLECTION_NAME]"
   ]
  },
  {
   "cell_type": "code",
   "execution_count": 3,
   "metadata": {
    "scrolled": true
   },
   "outputs": [
    {
     "data": {
      "text/plain": [
       "(array([4416., 2032., 2744., 2488., 1472., 3200., 2792., 1728., 1320.,\n",
       "        1160.]),\n",
       " array([ 0. ,  3.1,  6.2,  9.3, 12.4, 15.5, 18.6, 21.7, 24.8, 27.9, 31. ]),\n",
       " <a list of 10 Patch objects>)"
      ]
     },
     "execution_count": 3,
     "metadata": {},
     "output_type": "execute_result"
    },
    {
     "data": {
      "image/png": "[encoded data removed]",
      "text/plain": [
       "<Figure size 432x288 with 1 Axes>"
      ]
     },
     "metadata": {},
     "output_type": "display_data"
    }
   ],
   "source": [
    "# Total number of matches per team\n",
    "years = matches_collection.distinct('year')\n",
    "freq = []\n",
    "for year in years:\n",
    "    year_teams = matches_collection.aggregate([{'$project':{'home_team':1}}])\n",
    "    freq.extend([i['home_team'] for i in year_teams])\n",
    "\n",
    "plt.xticks(rotation=90)\n",
    "plt.hist(freq)"
   ]
  },
  {
   "cell_type": "code",
   "execution_count": 4,
   "metadata": {},
   "outputs": [
    {
     "name": "stdout",
     "output_type": "stream",
     "text": [
      "{'_id': ObjectId('5ac9529b6b5b9e2af46c59f1'),\n",
      " 'arbiter': 'Péricles Bassols Pegado Cortez',\n",
      " 'away_team': 'Vitória',\n",
      " 'cards': [{'player': 'Reniê', 'team': 'VIT', 'type': 'yellow'},\n",
      "           {'player': 'Deola', 'team': 'PAL', 'type': 'yellow'},\n",
      "           {'player': 'Edinho', 'team': 'PAL', 'type': 'yellow'},\n",
      "           {'player': 'Wallace Reis ', 'team': 'VIT', 'type': 'red'}],\n",
      " 'coaches': {'away_team': 'Ricardo Silva', 'home_team': 'Antônio Carlos Zago'},\n",
      " 'home_team': 'Palmeiras',\n",
      " 'location': {'city': 'São Paulo, SP', 'stadium': 'Palestra Itália'},\n",
      " 'players': {'away_team': [{'name': 'Viáfara', 'position': 'GOL'},\n",
      "                           {'name': 'Reniê', 'position': 'ZAD'},\n",
      "                           {'name': 'Wallace Reis', 'position': 'ZAD'},\n",
      "                           {'name': 'Egídio', 'position': 'LAE'},\n",
      "                           {'name': 'Rafael Granja', 'position': 'MEC'},\n",
      "                           {'name': 'Edson Reis', 'position': 'ATA'},\n",
      "                           {'name': 'Renato', 'position': 'MEC'},\n",
      "                           {'name': 'Neto Berola', 'position': 'ATA'},\n",
      "                           {'name': 'Bida', 'position': 'MEC'},\n",
      "                           {'name': 'Uelliton', 'position': 'VOL'},\n",
      "                           {'name': 'Neto Coruja', 'position': 'VOL'},\n",
      "                           {'name': 'Elkeson', 'position': 'ATA'},\n",
      "                           {'name': 'Vanderson', 'position': 'VOL'},\n",
      "                           {'name': 'Junior', 'position': 'ATA'}],\n",
      "             'home_team': [{'name': 'Marcos', 'position': 'GOL'},\n",
      "                           {'name': 'Léo', 'position': 'ZAE'},\n",
      "                           {'name': 'Vítor', 'position': 'LAD'},\n",
      "                           {'name': 'Armero', 'position': 'LAE'},\n",
      "                           {'name': 'Edinho', 'position': 'VOL'},\n",
      "                           {'name': 'Lincoln', 'position': 'MEC'},\n",
      "                           {'name': 'Marcos Assunção', 'position': 'VOL'},\n",
      "                           {'name': 'Márcio Araújo', 'position': 'VOL'},\n",
      "                           {'name': 'Cleiton Xavier', 'position': 'MEC'},\n",
      "                           {'name': 'Pierre', 'position': 'VOL'},\n",
      "                           {'name': 'Vinicius', 'position': 'ATA'},\n",
      "                           {'name': 'Ewerthon', 'position': 'ATA'},\n",
      "                           {'name': 'Robert', 'position': 'ATA'},\n",
      "                           {'name': 'Paulo Henrique', 'position': 'ATA'}]},\n",
      " 'round': 1,\n",
      " 'schedule': {'date': '08/05/2010', 'day': 'Sábado', 'time': '18h30'},\n",
      " 'score': {'away_team': 0, 'home_team': 1},\n",
      " 'statistics': {'goals_away_team': 31,\n",
      "                'goals_home_team': 47,\n",
      "                'matches_same_score': 3,\n",
      "                'previous_draws': 8,\n",
      "                'previous_matches': 26,\n",
      "                'wins_away_team': 4,\n",
      "                'wins_home_team': 14},\n",
      " 'url': 'http://futpedia.globo.com/campeonato/campeonato-brasileiro/2010/05/08/palmeiras-1-x-0-vitoria',\n",
      " 'year': 2010}\n"
     ]
    }
   ],
   "source": [
    "# Sample match for testing\n",
    "sample = matches_collection.find_one()\n",
    "pprint(sample)"
   ]
  },
  {
   "cell_type": "code",
   "execution_count": 5,
   "metadata": {},
   "outputs": [],
   "source": [
    "# Default match feature extractor\n",
    "def extract_features(match):\n",
    "    N = 4\n",
    "    stats = match['statistics']\n",
    "    score = match['score']\n",
    "    home_team_last_sg = get_last_N_balances(match['home_team'], N)\n",
    "    away_team_last_sg = get_last_N_balances(match['away_team'], N)\n",
    "    return [\n",
    "            score['home_team'],\n",
    "            score['away_team'], \n",
    "            stats['goals_home_team'], \n",
    "            stats['goals_away_team'],\n",
    "            stats['wins_home_team'], \n",
    "            stats['wins_away_team'], \n",
    "            stats['previous_draws'], \n",
    "            *home_team_last_sg, \n",
    "            *away_team_last_sg\n",
    "           ]"
   ]
  },
  {
   "cell_type": "code",
   "execution_count": 6,
   "metadata": {},
   "outputs": [],
   "source": [
    "# Gets the last N balances of a team per match \n",
    "# The results are sorted from the most recent to the oldest match result\n",
    "def get_last_N_balances(team, limit):\n",
    "    query_constraints = {'$or':[ {'away_team':team}, {'home_team':team}]}\n",
    "    query_projections = {'home_team':1, 'away_team':1, 'year':1, 'round':1, 'score':1, 'teams': 1}\n",
    "    query_sort_criteria = [('year',-1), ('round',-1)]\n",
    "\n",
    "    matches = matches_collection.find(query_constraints, query_projections)\\\n",
    "                                .sort(query_sort_criteria)\\\n",
    "                                .limit(limit)\n",
    "    sgs =[]\n",
    "    for match in matches:\n",
    "        score = match['score']\n",
    "        is_home = team == match['home_team']\n",
    "        \n",
    "        if is_home:\n",
    "            sg = score['home_team'] - score['away_team']\n",
    "        else:\n",
    "            sg = score['away_team'] - score['home_team']\n",
    "        sgs.append(sg)\n",
    "    \n",
    "    return sgs"
   ]
  },
  {
   "cell_type": "code",
   "execution_count": 7,
   "metadata": {},
   "outputs": [
    {
     "name": "stdout",
     "output_type": "stream",
     "text": [
      "[1, 0, 47, 31, 14, 4, 8, -1, 1, 1, 0, 1, 2, -1, 0]\n"
     ]
    }
   ],
   "source": [
    "print(extract_features(sample))"
   ]
  },
  {
   "cell_type": "code",
   "execution_count": 10,
   "metadata": {
    "scrolled": true
   },
   "outputs": [
    {
     "name": "stdout",
     "output_type": "stream",
     "text": [
      "Epoch 1/15\n",
      "768/768 [==============================] - 0s 548us/step - loss: 0.6901 - acc: 0.6510\n",
      "Epoch 2/15\n",
      "768/768 [==============================] - 0s 269us/step - loss: 0.6680 - acc: 0.6510\n",
      "Epoch 3/15\n",
      "768/768 [==============================] - 0s 171us/step - loss: 0.6634 - acc: 0.6510\n",
      "Epoch 4/15\n",
      "768/768 [==============================] - 0s 160us/step - loss: 0.6567 - acc: 0.6510\n",
      "Epoch 5/15\n",
      "768/768 [==============================] - 0s 163us/step - loss: 0.6512 - acc: 0.6510\n",
      "Epoch 6/15\n",
      "768/768 [==============================] - 0s 151us/step - loss: 0.6485 - acc: 0.6510\n",
      "Epoch 7/15\n",
      "768/768 [==============================] - 0s 169us/step - loss: 0.6465 - acc: 0.6510\n",
      "Epoch 8/15\n",
      "768/768 [==============================] - 0s 166us/step - loss: 0.6441 - acc: 0.6510\n",
      "Epoch 9/15\n",
      "768/768 [==============================] - 0s 155us/step - loss: 0.6436 - acc: 0.6510\n",
      "Epoch 10/15\n",
      "768/768 [==============================] - 0s 167us/step - loss: 0.6415 - acc: 0.6510\n",
      "Epoch 11/15\n",
      "768/768 [==============================] - 0s 172us/step - loss: 0.6409 - acc: 0.6510\n",
      "Epoch 12/15\n",
      "768/768 [==============================] - 0s 212us/step - loss: 0.6406 - acc: 0.6510\n",
      "Epoch 13/15\n",
      "768/768 [==============================] - 0s 308us/step - loss: 0.6396 - acc: 0.6510\n",
      "Epoch 14/15\n",
      "768/768 [==============================] - 0s 187us/step - loss: 0.6391 - acc: 0.6510\n",
      "Epoch 15/15\n",
      "768/768 [==============================] - 0s 158us/step - loss: 0.6381 - acc: 0.6510\n",
      "768/768 [==============================] - 0s 96us/step\n",
      "\n",
      "acc: 65.10%\n"
     ]
    }
   ],
   "source": [
    "from keras.models import Sequential\n",
    "from keras.layers import Dense\n",
    "\n",
    "\n",
    "#input:\n",
    "# SG from last 4 matches from team A - Size: 4\n",
    "# \"Away or home\" from team A - Size:1\n",
    "# Wins, Defeats and Draws in direct confrontation(Team A) - Size 3\n",
    "\n",
    "# SG from last 4 matches from team B - Size: 4\n",
    "# \"Away or home\" from team B - Size:1\n",
    "# Wins, Defeats and Draws in direct confrontation(Team B) - Size 3\n",
    "#Total size: 16\n",
    "x = []\n",
    "\n",
    "#output:\n",
    "#goals from Team A - size: 1\n",
    "#goals from Team B - size: 1\n",
    "#Total size: 2\n",
    "y = []\n",
    "\n",
    "#creating the neural network\n",
    "model = Sequential()\n",
    "model.add(Dense(2, input_dim=16, activation='relu'))\n",
    "model.add(Dense(2, activation='relu'))\n",
    "model.add(Dense(1, activation='sigmoid'))\n",
    "\n",
    "model.compile(loss='binary_crossentropy', optimizer='adam', metrics=['accuracy'])\n",
    "\n",
    "#training\n",
    "model.fit(x, y, epochs=150, batch_size=10)\n",
    "scores = model.evaluate(x, y)\n",
    "\n",
    "print(\"\\n%s: %.2f%%\" % (model.metrics_names[1], scores[1]*100))\n",
    "\n",
    "plot_model(model, to_file='model_plot.png', show_shapes=True, show_layer_names=True)\n"
   ]
  },
  {
   "cell_type": "code",
   "execution_count": null,
   "metadata": {
    "collapsed": true
   },
   "outputs": [],
   "source": []
  }
 ],
 "metadata": {
  "kernelspec": {
   "display_name": "Python 3",
   "language": "python",
   "name": "python3"
  },
  "language_info": {
   "codemirror_mode": {
    "name": "ipython",
    "version": 3
   },
   "file_extension": ".py",
   "mimetype": "text/x-python",
   "name": "python",
   "nbconvert_exporter": "python",
   "pygments_lexer": "ipython3",
   "version": "3.6.5"
  }
 },
 "nbformat": 4,
 "nbformat_minor": 2
}
