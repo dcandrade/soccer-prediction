{
 "cells": [
  {
   "cell_type": "markdown",
   "metadata": {},
   "source": [
    "# Entries\n",
    "\n",
    "1. Historical statistics of direct confrontation (team 1 vs team 2)\n",
    "2. Statistics of *N* previous matches for each team\n",
    "3. Home player or away player\n",
    "4. Current points on championship\n",
    "5. Match day matters?"
   ]
  },
  {
   "cell_type": "code",
   "execution_count": 2,
   "metadata": {},
   "outputs": [],
   "source": [
    "from pprint import pprint\n",
    "from pymongo import MongoClient\n",
    "import numpy as np\n",
    "import matplotlib.pyplot as plt"
   ]
  },
  {
   "cell_type": "code",
   "execution_count": 3,
   "metadata": {},
   "outputs": [],
   "source": [
    "# Opening MongoDB\n",
    "MATCHES_COLLECTION_NAME = 'matches'\n",
    "CLASSIFICATION_HISTORY_COLLECTION_NAME = 'rankings'\n",
    "DB_NAME = 'soccer-prediction'\n",
    "\n",
    "client = MongoClient()\n",
    "db = client[DB_NAME]\n",
    "matches_collection = db[MATCHES_COLLECTION_NAME]\n",
    "classification_history = db[CLASSIFICATION_HISTORY_COLLECTION_NAME]"
   ]
  },
  {
   "cell_type": "code",
   "execution_count": 12,
   "metadata": {
    "scrolled": true
   },
   "outputs": [
    {
     "data": {
      "text/plain": [
       "(array([3760., 3400., 1016., 2032., 2944., 3200., 2792., 1728., 1320.,\n",
       "        1160.]),\n",
       " array([ 0. ,  3.1,  6.2,  9.3, 12.4, 15.5, 18.6, 21.7, 24.8, 27.9, 31. ]),\n",
       " <a list of 10 Patch objects>)"
      ]
     },
     "execution_count": 12,
     "metadata": {},
     "output_type": "execute_result"
    },
    {
     "data": {
      "image/png": "[encoded data removed]",
      "text/plain": [
       "<Figure size 432x288 with 1 Axes>"
      ]
     },
     "metadata": {},
     "output_type": "display_data"
    }
   ],
   "source": [
    "# Total number of matches per team\n",
    "years = matches_collection.distinct('year')\n",
    "freq = []\n",
    "for year in years:\n",
    "    year_teams = matches_collection.aggregate([{'$project':{'home_team':1}}])\n",
    "    freq.extend([i['home_team'] for i in year_teams])\n",
    "\n",
    "plt.xticks(rotation=90)\n",
    "plt.hist(freq)"
   ]
  },
  {
   "cell_type": "code",
   "execution_count": 5,
   "metadata": {},
   "outputs": [
    {
     "name": "stdout",
     "output_type": "stream",
     "text": [
      "{'_id': ObjectId('5ac952926b5b9e2af46c59ef'),\n",
      " 'arbiter': 'Leonardo Gaciba da Silva',\n",
      " 'away_team': 'Santos',\n",
      " 'cards': [{'player': 'Alex Sandro', 'team': 'SAN', 'type': 'yellow'},\n",
      "           {'player': 'Zé Eduardo', 'team': 'SAN', 'type': 'yellow'},\n",
      "           {'player': 'Herrera', 'team': 'BOT', 'type': 'yellow'},\n",
      "           {'player': 'Wesley', 'team': 'SAN', 'type': 'yellow'},\n",
      "           {'player': 'Alex Sandro', 'team': 'SAN', 'type': 'red'}],\n",
      " 'coaches': {'away_team': 'Dorival Júnior', 'home_team': 'Joel Santana'},\n",
      " 'home_team': 'Botafogo',\n",
      " 'location': {'city': 'Brasil, Rio de Janeiro, RJ', 'stadium': 'Engenhão'},\n",
      " 'players': {'away_team': [{'name': 'Felipe Garcia', 'position': 'GOL'},\n",
      "                           {'name': 'Bruno Aguiar', 'position': 'ZAD'},\n",
      "                           {'name': 'Durval', 'position': 'ZAE'},\n",
      "                           {'name': 'Maranhão', 'position': 'LAD'},\n",
      "                           {'name': 'Alex Sandro', 'position': 'LAE'},\n",
      "                           {'name': 'Madson', 'position': 'MEC'},\n",
      "                           {'name': 'Breitner', 'position': 'MEC'},\n",
      "                           {'name': 'Wesley', 'position': 'VOL'},\n",
      "                           {'name': 'Marquinhos', 'position': 'MEC'},\n",
      "                           {'name': 'Roberto Brum', 'position': 'VOL'},\n",
      "                           {'name': 'Rodrigo Mancha', 'position': 'VOL'},\n",
      "                           {'name': 'Neymar', 'position': 'ATA'},\n",
      "                           {'name': 'Zé Eduardo', 'position': 'ATA'},\n",
      "                           {'name': 'André', 'position': 'ATA'}],\n",
      "             'home_team': [{'name': 'Jefferson', 'position': 'GOL'},\n",
      "                           {'name': 'Antônio Carlos', 'position': 'ZAD'},\n",
      "                           {'name': 'Fábio Ferreira', 'position': 'ZAE'},\n",
      "                           {'name': 'Alessandro', 'position': 'LAD'},\n",
      "                           {'name': 'Marcelo Cordeiro', 'position': 'LAE'},\n",
      "                           {'name': 'Somália', 'position': 'VOL'},\n",
      "                           {'name': 'Fahel', 'position': 'VOL'},\n",
      "                           {'name': 'Túlio Souza', 'position': 'VOL'},\n",
      "                           {'name': 'Edno', 'position': 'ATA'},\n",
      "                           {'name': 'Renato Cajá', 'position': 'MEC'},\n",
      "                           {'name': 'Caio', 'position': 'ATA'},\n",
      "                           {'name': 'Leandro Guerreiro', 'position': 'VOL'},\n",
      "                           {'name': 'Herrera', 'position': 'ATA'},\n",
      "                           {'name': 'Loco Abreu', 'position': 'ATA'}]},\n",
      " 'round': 1,\n",
      " 'schedule': {'date': '08/05/2010', 'day': 'Sábado', 'time': '18h30'},\n",
      " 'score': {'away_team': 3, 'home_team': 3},\n",
      " 'statistics': {'goals_away_team': 68,\n",
      "                'goals_home_team': 54,\n",
      "                'matches_same_score': 0,\n",
      "                'previous_draws': 17,\n",
      "                'previous_matches': 47,\n",
      "                'wins_away_team': 16,\n",
      "                'wins_home_team': 14},\n",
      " 'url': 'http://futpedia.globo.com/campeonato/campeonato-brasileiro/2010/05/08/botafogo-3-x-3-santos',\n",
      " 'year': 2010}\n"
     ]
    }
   ],
   "source": [
    "sample = matches_collection.find_one()\n",
    "pprint(sample)"
   ]
  },
  {
   "cell_type": "code",
   "execution_count": 6,
   "metadata": {},
   "outputs": [],
   "source": [
    "def extract_features(match):\n",
    "#### Format [home_score, away_score, stats_goals_home_team, stats_goals_away_team, \n",
    "### stats_wins_home_team, stats_wins_away_team, stats_previous_draws, \n",
    "### *previous N matches home team (sg), *previous N matches away team (sg)]\n",
    "    ##          ]\n",
    "    N = 4\n",
    "    stats = match['statistics']\n",
    "    score = match['score']\n",
    "    home_team_last_sg = get_last_N_sg(match['home_team'], N)\n",
    "    away_team_last_sg = get_last_N_sg(match['away_team'], N)\n",
    "    return [\n",
    "            score['home_team'],\n",
    "            score['away_team'], \n",
    "            stats['goals_home_team'], \n",
    "            stats['goals_away_team'],\n",
    "            score['wins_home_team'], \n",
    "            stats['wins_away_team'], \n",
    "            stats['previous_draws'], \n",
    "            *home_team_last_sg, \n",
    "            *away_team_last_sg\n",
    "           ]\n",
    "    pass"
   ]
  },
  {
   "cell_type": "code",
   "execution_count": 11,
   "metadata": {},
   "outputs": [],
   "source": [
    "def get_last_results(team, limit):\n",
    "    query_constraints = {'$or':[ {'away_team':team}, {'home_team':team}]}\n",
    "    query_projections = {'home_team':1, 'away_team':1, 'year':1, 'round':1, 'score':1, 'teams': 1}\n",
    "    query_sort_criteria = [('year',-1), ('round',-1)]\n",
    "\n",
    "    matches = matches_collection.find(query_constraints, query_projections)\\\n",
    "                                .sort(query_sort_criteria)\\\n",
    "                                .limit(limit)\n",
    "    sgs =[]\n",
    "    for match in matches:\n",
    "        score = match['score']\n",
    "        is_home = team == match['home_team']\n",
    "        \n",
    "        if is_home:\n",
    "            sg = score['home_team'] - score['away_team']\n",
    "        else:\n",
    "            sg = score['away_team'] - score['home_team']\n",
    "        sgs.append(sg)\n",
    "    \n",
    "    return sgs"
   ]
  },
  {
   "cell_type": "code",
   "execution_count": 10,
   "metadata": {},
   "outputs": [
    {
     "name": "stdout",
     "output_type": "stream",
     "text": [
      "0\n",
      "0\n",
      "1\n",
      "-2\n",
      "-1\n"
     ]
    }
   ],
   "source": [
    "for i in get_last_results('Corinthians', 5):\n",
    "    pprint(i)"
   ]
  },
  {
   "cell_type": "code",
   "execution_count": null,
   "metadata": {},
   "outputs": [],
   "source": []
  }
 ],
 "metadata": {
  "kernelspec": {
   "display_name": "Python 3",
   "language": "python",
   "name": "python3"
  },
  "language_info": {
   "codemirror_mode": {
    "name": "ipython",
    "version": 3
   },
   "file_extension": ".py",
   "mimetype": "text/x-python",
   "name": "python",
   "nbconvert_exporter": "python",
   "pygments_lexer": "ipython3",
   "version": "3.6.5"
  }
 },
 "nbformat": 4,
 "nbformat_minor": 2
}
